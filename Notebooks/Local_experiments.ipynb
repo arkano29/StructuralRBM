{
 "cells": [
  {
   "cell_type": "markdown",
   "metadata": {},
   "source": [
    "# Imports"
   ]
  },
  {
   "cell_type": "code",
   "execution_count": 1,
   "metadata": {},
   "outputs": [],
   "source": [
    "import os, sys\n",
    "\n",
    "dtype = \"float32\"\n",
    "MAIN = \"/Users/abidaurrazaga/Desktop/PhD/StructuralRBM\"\n",
    "nb_path = '/Users/abidaurrazaga/Desktop/PhD/StructuralRBM/Modules'\n",
    "sys.path.append(nb_path)\n",
    "\n",
    "import tensorflow as tf\n",
    "import tensorflow_probability as tfp\n",
    "import numpy as np\n",
    "from sklearn.model_selection import train_test_split\n",
    "import matplotlib.pyplot as plt\n",
    "\n",
    "from RBM import RBM,SBM\n",
    "from ClassRBM import ClassRBM,ClassSBM \n",
    "\n",
    "import warnings\n",
    "warnings.filterwarnings(\"ignore\")\n",
    "kwargs = {}"
   ]
  },
  {
   "cell_type": "code",
   "execution_count": 2,
   "metadata": {},
   "outputs": [],
   "source": [
    "from sklearn.covariance import EmpiricalCovariance as Cov\n",
    "from Save_Load import from_dataset_to_array\n",
    "import seaborn as sb\n",
    "from utils import read_home_dir\n",
    "from Save_Load import check_rbm,save_rbm"
   ]
  },
  {
   "cell_type": "code",
   "execution_count": 3,
   "metadata": {},
   "outputs": [],
   "source": [
    "def Experiment(args):\n",
    "\n",
    "    \"\"\"Computes a 10-repeated-hold-out experiment for a model with different seeds, model parameters are given by args\"\"\"\n",
    "    \n",
    "    MAIN = read_home_dir()\n",
    "    \n",
    "    #######################################################\n",
    "    \n",
    "    TASK = args.get(\"TASK\") # \"Unsupervised\" or \"Supervised\"\n",
    "    DATA_NAME= args.get(\"DATA_NAME\") # \"MNIST\" or \"FashionMNIST\"\n",
    "    nHidden = args.get(\"nHidden\",0)\n",
    "    \n",
    "    window = args.get(\"window\",0)\n",
    "    stride = args.get(\"stride\",0)\n",
    "    \n",
    "    window_list = args.get(\"window_list\",[])\n",
    "    stride_list = args.get(\"stride_list\",[])\n",
    "\n",
    "    n_fold = args.get(\"n_fold\",0)\n",
    "\n",
    "    train_size = args.get(\"train_size\",0)\n",
    "    batch_size = Launch_Experiments.batch_size\n",
    "\n",
    "    \n",
    "    #######################################################\n",
    "    EPOCHS = 10#Launch_Experiments.EPOCHS\n",
    "    lr = Launch_Experiments.lr\n",
    "    momentum = Launch_Experiments.momentum\n",
    "    \n",
    "    n_step = Launch_Experiments.n_step\n",
    "    \n",
    "    unsuper_metrics = Launch_Experiments.unsuper_metrics\n",
    "               \n",
    "    super_metrics = Launch_Experiments.super_metrics\n",
    "\n",
    "    train_corrupted,val_corrupted = None,None\n",
    "\n",
    "    if DATA_NAME == \"MNIST\":\n",
    "        train_data,train_data_y = from_dataset_to_array(data_name = \"identity\", split = \"train\",size = train_size)\n",
    "        val_data,val_data_y = from_dataset_to_array(data_name = \"identity\", split = \"val\")\n",
    "    elif DATA_NAME == \"FashionMNIST\":\n",
    "        train_data,train_data_y = from_dataset_to_array(data_name = \"fashion_mnist\", split = \"train\",size = train_size)\n",
    "        val_data,val_data_y = from_dataset_to_array(data_name = \"fashion_mnist\", split = \"val\")\n",
    "    else:\n",
    "        train_data,train_data_y = from_dataset_to_array(data_name = DATA_NAME, split = \"train\",size = train_size)\n",
    "        val_data,val_data_y = from_dataset_to_array(data_name = DATA_NAME, split = \"val\")\n",
    "    OUTPUT_DIR = \"Trained RBM/\"+DATA_NAME\n",
    "    if not os.path.exists(os.path.join(MAIN,OUTPUT_DIR)):\n",
    "        os.mkdir(os.path.join(MAIN,OUTPUT_DIR))\n",
    "        \n",
    "    if TASK == \"Unsupervised\":\n",
    "        method = \"LL\"\n",
    "        train_corrupted,_ = from_dataset_to_array(data_name = \"shot_noise\", split = \"train\",size = train_size)\n",
    "        val_corrupted,_ = from_dataset_to_array(data_name = \"shot_noise\", split = \"val\")\n",
    "        metrics = unsuper_metrics\n",
    "    elif TASK == \"Supervised\":\n",
    "        method = \"discriminative\"\n",
    "        metrics = super_metrics\n",
    "    \n",
    "    \n",
    "    for SEED in range(10):\n",
    "    \n",
    "        # Set model arguments\n",
    "        kwargs = dict(batch_size = batch_size,nVisible = train_data.shape[1],nHidden = nHidden, nClass = train_data_y.shape[1], train_size = train_size,\n",
    "                          window = window, stride = stride, window_list = window_list, stride_list = stride_list, n_fold = n_fold, name = \"_\"+DATA_NAME,\n",
    "                          epochs = EPOCHS,k_gibbs = 1, MAIN = MAIN,metrics = metrics,seed = SEED, output_dir = OUTPUT_DIR, method = method,\n",
    "                          train_data=train_data,val_data=val_data,train_corrupted=train_corrupted,val_corrupted=val_corrupted,n_step=n_step,\n",
    "                          train_data_y=train_data_y,val_data_y=val_data_y,min_updates = Launch_Experiments.PATIENCE,nAIS=1,\n",
    "                          lr = lr,momentum = momentum, dtype = Launch_Experiments.dtype,LL_epochs = 100)\n",
    "                          \n",
    "        if TASK == \"Unsupervised\":\n",
    "            if nHidden:\n",
    "                model = RBM(**kwargs)\n",
    "            else:\n",
    "                model = SBM(**kwargs)\n",
    "        elif TASK == \"Supervised\":\n",
    "            if nHidden:\n",
    "                model = ClassRBM(**kwargs)\n",
    "            else:\n",
    "                model = ClassSBM(**kwargs)\n",
    "\n",
    "        model.batch_size = batch_size\n",
    "        model.epochs = EPOCHS\n",
    "        \n",
    "        print(\"Name of the RBM: %s\"%model.get_name())\n",
    "        name = model.get_name()\n",
    "        if check_rbm(name,**kwargs):\n",
    "            print(\"Already computed and stored in %s\"%(os.path.join(MAIN,OUTPUT_DIR,name)))\n",
    "            continue\n",
    "        \n",
    "        model.fit(**kwargs) # Train model\n",
    "        \n",
    "        save_rbm(model,**kwargs) # Save model"
   ]
  },
  {
   "cell_type": "code",
   "execution_count": 4,
   "metadata": {},
   "outputs": [
    {
     "name": "stderr",
     "output_type": "stream",
     "text": [
      "2022-11-07 12:32:53.910566: I tensorflow/core/platform/cpu_feature_guard.cc:151] This TensorFlow binary is optimized with oneAPI Deep Neural Network Library (oneDNN) to use the following CPU instructions in performance-critical operations:  AVX2 FMA\n",
      "To enable them in other operations, rebuild TensorFlow with the appropriate compiler flags.\n"
     ]
    },
    {
     "name": "stdout",
     "output_type": "stream",
     "text": [
      "Name of the RBM: ClassSBM_nHidden_144_MNIST_method_discriminative_window_3_stride_2_seed_0_epochs_10_lr_1_momentum_095_batch_size_16\n"
     ]
    },
    {
     "data": {
      "application/vnd.jupyter.widget-view+json": {
       "model_id": "1eb8a9db9f02476db8203f0fbbc26ad5",
       "version_major": 2,
       "version_minor": 0
      },
      "text/plain": [
       "Epoch:   0%|          | 0/10 [00:00<?, ?it/s]"
      ]
     },
     "metadata": {},
     "output_type": "display_data"
    },
    {
     "name": "stdout",
     "output_type": "stream",
     "text": [
      "Elaped time 0.1564556320508321 min\n",
      "Saving : ClassSBM_nHidden_144_MNIST_method_discriminative_window_3_stride_2_seed_0_epochs_10_lr_1_momentum_095_batch_size_16\n",
      "Name of the RBM: ClassSBM_nHidden_144_MNIST_method_discriminative_window_3_stride_2_seed_1_epochs_10_lr_1_momentum_095_batch_size_16\n"
     ]
    },
    {
     "data": {
      "application/vnd.jupyter.widget-view+json": {
       "model_id": "40d9c6de09b54f049ff6fa3e82dfa07d",
       "version_major": 2,
       "version_minor": 0
      },
      "text/plain": [
       "Epoch:   0%|          | 0/10 [00:00<?, ?it/s]"
      ]
     },
     "metadata": {},
     "output_type": "display_data"
    },
    {
     "ename": "KeyboardInterrupt",
     "evalue": "",
     "output_type": "error",
     "traceback": [
      "\u001b[0;31m---------------------------------------------------------------------------\u001b[0m",
      "\u001b[0;31mKeyboardInterrupt\u001b[0m                         Traceback (most recent call last)",
      "\u001b[1;32m/Users/abidaurrazaga/Desktop/PhD/StructuralRBM/Notebooks/Local_experiments.ipynb Celda 5\u001b[0m in \u001b[0;36m<cell line: 10>\u001b[0;34m()\u001b[0m\n\u001b[1;32m      <a href='vscode-notebook-cell:/Users/abidaurrazaga/Desktop/PhD/StructuralRBM/Notebooks/Local_experiments.ipynb#W4sZmlsZQ%3D%3D?line=6'>7</a>\u001b[0m     \u001b[39mfor\u001b[39;00m i \u001b[39min\u001b[39;00m \u001b[39mrange\u001b[39m(\u001b[39mlen\u001b[39m(MAIN_DICT)):\n\u001b[1;32m      <a href='vscode-notebook-cell:/Users/abidaurrazaga/Desktop/PhD/StructuralRBM/Notebooks/Local_experiments.ipynb#W4sZmlsZQ%3D%3D?line=8'>9</a>\u001b[0m         Experiment(MAIN_DICT[i])\n\u001b[0;32m---> <a href='vscode-notebook-cell:/Users/abidaurrazaga/Desktop/PhD/StructuralRBM/Notebooks/Local_experiments.ipynb#W4sZmlsZQ%3D%3D?line=9'>10</a>\u001b[0m locally(\u001b[39m\"\u001b[39;49m\u001b[39mMNIST\u001b[39;49m\u001b[39m\"\u001b[39;49m,\u001b[39m\"\u001b[39;49m\u001b[39mSupervised\u001b[39;49m\u001b[39m\"\u001b[39;49m)\n",
      "\u001b[1;32m/Users/abidaurrazaga/Desktop/PhD/StructuralRBM/Notebooks/Local_experiments.ipynb Celda 5\u001b[0m in \u001b[0;36mlocally\u001b[0;34m(DATA_NAME, TASK)\u001b[0m\n\u001b[1;32m      <a href='vscode-notebook-cell:/Users/abidaurrazaga/Desktop/PhD/StructuralRBM/Notebooks/Local_experiments.ipynb#W4sZmlsZQ%3D%3D?line=4'>5</a>\u001b[0m MAIN_DICT \u001b[39m=\u001b[39m [\u001b[39mdict\u001b[39m(DATA_NAME \u001b[39m=\u001b[39m DATA_NAME,TASK\u001b[39m=\u001b[39mTASK,leave_bar\u001b[39m=\u001b[39m\u001b[39mFalse\u001b[39;00m,window\u001b[39m=\u001b[39m\u001b[39m3\u001b[39m,stride\u001b[39m=\u001b[39m\u001b[39m2\u001b[39m)] \n\u001b[1;32m      <a href='vscode-notebook-cell:/Users/abidaurrazaga/Desktop/PhD/StructuralRBM/Notebooks/Local_experiments.ipynb#W4sZmlsZQ%3D%3D?line=6'>7</a>\u001b[0m \u001b[39mfor\u001b[39;00m i \u001b[39min\u001b[39;00m \u001b[39mrange\u001b[39m(\u001b[39mlen\u001b[39m(MAIN_DICT)):\n\u001b[0;32m----> <a href='vscode-notebook-cell:/Users/abidaurrazaga/Desktop/PhD/StructuralRBM/Notebooks/Local_experiments.ipynb#W4sZmlsZQ%3D%3D?line=8'>9</a>\u001b[0m     Experiment(MAIN_DICT[i])\n",
      "\u001b[1;32m/Users/abidaurrazaga/Desktop/PhD/StructuralRBM/Notebooks/Local_experiments.ipynb Celda 5\u001b[0m in \u001b[0;36mExperiment\u001b[0;34m(args)\u001b[0m\n\u001b[1;32m     <a href='vscode-notebook-cell:/Users/abidaurrazaga/Desktop/PhD/StructuralRBM/Notebooks/Local_experiments.ipynb#W4sZmlsZQ%3D%3D?line=87'>88</a>\u001b[0m     \u001b[39mprint\u001b[39m(\u001b[39m\"\u001b[39m\u001b[39mAlready computed and stored in \u001b[39m\u001b[39m%s\u001b[39;00m\u001b[39m\"\u001b[39m\u001b[39m%\u001b[39m(os\u001b[39m.\u001b[39mpath\u001b[39m.\u001b[39mjoin(MAIN,OUTPUT_DIR,name)))\n\u001b[1;32m     <a href='vscode-notebook-cell:/Users/abidaurrazaga/Desktop/PhD/StructuralRBM/Notebooks/Local_experiments.ipynb#W4sZmlsZQ%3D%3D?line=88'>89</a>\u001b[0m     \u001b[39mcontinue\u001b[39;00m\n\u001b[0;32m---> <a href='vscode-notebook-cell:/Users/abidaurrazaga/Desktop/PhD/StructuralRBM/Notebooks/Local_experiments.ipynb#W4sZmlsZQ%3D%3D?line=90'>91</a>\u001b[0m model\u001b[39m.\u001b[39;49mfit(\u001b[39m*\u001b[39;49m\u001b[39m*\u001b[39;49mkwargs) \u001b[39m# Train model\u001b[39;00m\n\u001b[1;32m     <a href='vscode-notebook-cell:/Users/abidaurrazaga/Desktop/PhD/StructuralRBM/Notebooks/Local_experiments.ipynb#W4sZmlsZQ%3D%3D?line=92'>93</a>\u001b[0m save_rbm(model,\u001b[39m*\u001b[39m\u001b[39m*\u001b[39mkwargs)\n",
      "File \u001b[0;32m~/Desktop/PhD/StructuralRBM/Modules/BaseRBM.py:252\u001b[0m, in \u001b[0;36mBaseRBM.fit\u001b[0;34m(self, **kwargs)\u001b[0m\n\u001b[1;32m    249\u001b[0m batch_class \u001b[39m=\u001b[39m tf\u001b[39m.\u001b[39mgather(train_data_y,indices \u001b[39m=\u001b[39m subsampling,axis \u001b[39m=\u001b[39m \u001b[39m0\u001b[39m)\n\u001b[1;32m    250\u001b[0m \u001b[39mself\u001b[39m\u001b[39m.\u001b[39mstep(batch,batch_class)\n\u001b[0;32m--> 252\u001b[0m \u001b[39mself\u001b[39;49m\u001b[39m.\u001b[39;49mcompute_metrics(metrics,train_data,val_data,train_data_y,val_data_y,train_corrupted,val_corrupted)\n\u001b[1;32m    254\u001b[0m new_metric \u001b[39m=\u001b[39m \u001b[39mself\u001b[39m\u001b[39m.\u001b[39mhistory[\u001b[39mself\u001b[39m\u001b[39m.\u001b[39mevaluation_metric][\u001b[39m-\u001b[39m\u001b[39m1\u001b[39m]\n\u001b[1;32m    255\u001b[0m \u001b[39mif\u001b[39;00m \u001b[39mself\u001b[39m\u001b[39m.\u001b[39mcompareMetrics(new_metric):\n",
      "File \u001b[0;32m~/Desktop/PhD/StructuralRBM/Modules/BaseRBM.py:280\u001b[0m, in \u001b[0;36mBaseRBM.compute_metrics\u001b[0;34m(self, metrics, train_data, val_data, train_data_y, val_data_y, train_corrupted, val_corrupted)\u001b[0m\n\u001b[1;32m    278\u001b[0m \u001b[39mif\u001b[39;00m \u001b[39mself\u001b[39m\u001b[39m.\u001b[39mepoch\u001b[39m%\u001b[39m\u001b[39mself\u001b[39m\u001b[39m.\u001b[39mLL_epochs\u001b[39m==\u001b[39m\u001b[39m0\u001b[39m:\n\u001b[1;32m    279\u001b[0m     \u001b[39mself\u001b[39m\u001b[39m.\u001b[39mhistory[\u001b[39m\"\u001b[39m\u001b[39mtrain_accuracy\u001b[39m\u001b[39m\"\u001b[39m]\u001b[39m.\u001b[39mappend(ACCURACY(ProcessClasses(train_data_y),ProcessClasses(\u001b[39mself\u001b[39m\u001b[39m.\u001b[39msample_class_from_probs(\u001b[39mself\u001b[39m\u001b[39m.\u001b[39mpredict(train_data))),sample_weight \u001b[39m=\u001b[39m \u001b[39mself\u001b[39m\u001b[39m.\u001b[39mtrainClassWeights))\n\u001b[0;32m--> 280\u001b[0m     \u001b[39mself\u001b[39m\u001b[39m.\u001b[39mhistory[\u001b[39m\"\u001b[39m\u001b[39mval_accuracy\u001b[39m\u001b[39m\"\u001b[39m]\u001b[39m.\u001b[39mappend(ACCURACY(ProcessClasses(val_data_y),ProcessClasses(\u001b[39mself\u001b[39m\u001b[39m.\u001b[39msample_class_from_probs(\u001b[39mself\u001b[39;49m\u001b[39m.\u001b[39;49mpredict(val_data))),sample_weight \u001b[39m=\u001b[39m \u001b[39mself\u001b[39m\u001b[39m.\u001b[39mvalClassWeights))\n\u001b[1;32m    281\u001b[0m \u001b[39melse\u001b[39;00m:\n\u001b[1;32m    282\u001b[0m     \u001b[39mself\u001b[39m\u001b[39m.\u001b[39mhistory[\u001b[39m\"\u001b[39m\u001b[39mtrain_accuracy\u001b[39m\u001b[39m\"\u001b[39m]\u001b[39m.\u001b[39mappend(\u001b[39mself\u001b[39m\u001b[39m.\u001b[39mhistory[\u001b[39m\"\u001b[39m\u001b[39mtrain_accuracy\u001b[39m\u001b[39m\"\u001b[39m][\u001b[39m-\u001b[39m\u001b[39m1\u001b[39m])\n",
      "File \u001b[0;32m~/Desktop/PhD/StructuralRBM/Modules/ClassRBM.py:42\u001b[0m, in \u001b[0;36mClassRBM.predict\u001b[0;34m(self, v)\u001b[0m\n\u001b[1;32m     40\u001b[0m     prod \u001b[39m+\u001b[39m\u001b[39m=\u001b[39m \u001b[39mself\u001b[39m\u001b[39m.\u001b[39mclass_bias[y]\n\u001b[1;32m     41\u001b[0m     \u001b[39mfor\u001b[39;00m j \u001b[39min\u001b[39;00m \u001b[39mrange\u001b[39m(\u001b[39mself\u001b[39m\u001b[39m.\u001b[39mnHidden):\n\u001b[0;32m---> 42\u001b[0m         prod \u001b[39m+\u001b[39m\u001b[39m=\u001b[39m tf\u001b[39m.\u001b[39mmath\u001b[39m.\u001b[39msoftplus(precomputed_factor[:,j] \u001b[39m+\u001b[39m \u001b[39mself\u001b[39m\u001b[39m.\u001b[39mU[y, j])\n\u001b[1;32m     44\u001b[0m     class_probabilities[:, y] \u001b[39m=\u001b[39m prod  \n\u001b[1;32m     46\u001b[0m copy_probabilities \u001b[39m=\u001b[39m np\u001b[39m.\u001b[39mzeros(class_probabilities\u001b[39m.\u001b[39mshape)\n",
      "File \u001b[0;32m/usr/local/lib/python3.9/site-packages/tensorflow/python/util/traceback_utils.py:150\u001b[0m, in \u001b[0;36mfilter_traceback.<locals>.error_handler\u001b[0;34m(*args, **kwargs)\u001b[0m\n\u001b[1;32m    148\u001b[0m filtered_tb \u001b[39m=\u001b[39m \u001b[39mNone\u001b[39;00m\n\u001b[1;32m    149\u001b[0m \u001b[39mtry\u001b[39;00m:\n\u001b[0;32m--> 150\u001b[0m   \u001b[39mreturn\u001b[39;00m fn(\u001b[39m*\u001b[39;49margs, \u001b[39m*\u001b[39;49m\u001b[39m*\u001b[39;49mkwargs)\n\u001b[1;32m    151\u001b[0m \u001b[39mexcept\u001b[39;00m \u001b[39mException\u001b[39;00m \u001b[39mas\u001b[39;00m e:\n\u001b[1;32m    152\u001b[0m   filtered_tb \u001b[39m=\u001b[39m _process_traceback_frames(e\u001b[39m.\u001b[39m__traceback__)\n",
      "File \u001b[0;32m/usr/local/lib/python3.9/site-packages/tensorflow/python/util/dispatch.py:1082\u001b[0m, in \u001b[0;36madd_dispatch_support.<locals>.decorator.<locals>.op_dispatch_handler\u001b[0;34m(*args, **kwargs)\u001b[0m\n\u001b[1;32m   1080\u001b[0m \u001b[39m# Fallback dispatch system (dispatch v1):\u001b[39;00m\n\u001b[1;32m   1081\u001b[0m \u001b[39mtry\u001b[39;00m:\n\u001b[0;32m-> 1082\u001b[0m   \u001b[39mreturn\u001b[39;00m dispatch_target(\u001b[39m*\u001b[39;49margs, \u001b[39m*\u001b[39;49m\u001b[39m*\u001b[39;49mkwargs)\n\u001b[1;32m   1083\u001b[0m \u001b[39mexcept\u001b[39;00m (\u001b[39mTypeError\u001b[39;00m, \u001b[39mValueError\u001b[39;00m):\n\u001b[1;32m   1084\u001b[0m   \u001b[39m# Note: convert_to_eager_tensor currently raises a ValueError, not a\u001b[39;00m\n\u001b[1;32m   1085\u001b[0m   \u001b[39m# TypeError, when given unexpected types.  So we need to catch both.\u001b[39;00m\n\u001b[1;32m   1086\u001b[0m   result \u001b[39m=\u001b[39m dispatch(op_dispatch_handler, args, kwargs)\n",
      "File \u001b[0;32m/usr/local/lib/python3.9/site-packages/tensorflow/python/ops/array_ops.py:1002\u001b[0m, in \u001b[0;36m_slice_helper\u001b[0;34m(tensor, slice_spec, var)\u001b[0m\n\u001b[1;32m   1000\u001b[0m \u001b[39melse\u001b[39;00m:\n\u001b[1;32m   1001\u001b[0m   begin\u001b[39m.\u001b[39mappend(\u001b[39m0\u001b[39m)\n\u001b[0;32m-> 1002\u001b[0m   begin_mask \u001b[39m|\u001b[39m\u001b[39m=\u001b[39m (\u001b[39m1\u001b[39;49m \u001b[39m<<\u001b[39;49m index)\n\u001b[1;32m   1003\u001b[0m \u001b[39mif\u001b[39;00m s\u001b[39m.\u001b[39mstop \u001b[39mis\u001b[39;00m \u001b[39mnot\u001b[39;00m \u001b[39mNone\u001b[39;00m \u001b[39mand\u001b[39;00m \u001b[39mnot\u001b[39;00m _is_undefined_dimension(s\u001b[39m.\u001b[39mstop):\n\u001b[1;32m   1004\u001b[0m   _check_index(s\u001b[39m.\u001b[39mstop)\n",
      "\u001b[0;31mKeyboardInterrupt\u001b[0m: "
     ]
    }
   ],
   "source": [
    "import Launch_Experiments\n",
    "def locally(DATA_NAME,TASK = \"Unsupervised\"):\n",
    "    \n",
    "    MAIN_DICT = [dict(item,DATA_NAME = DATA_NAME,TASK=TASK,leave_bar=False) for item in Launch_Experiments.PARAMS_DICT_5]\n",
    "    MAIN_DICT = [dict(DATA_NAME = DATA_NAME,TASK=TASK,leave_bar=False,window=3,stride=2)] \n",
    "        \n",
    "    for i in range(len(MAIN_DICT)):\n",
    "        \n",
    "        Experiment(MAIN_DICT[i])\n",
    "locally(\"MNIST\",\"Supervised\")"
   ]
  },
  {
   "cell_type": "markdown",
   "metadata": {},
   "source": [
    "# Metric to determine SBM adecuacy"
   ]
  },
  {
   "cell_type": "code",
   "execution_count": null,
   "metadata": {},
   "outputs": [],
   "source": [
    "data_name = \"identity\"\n",
    "data,lab = from_dataset_to_array(data_name = data_name)"
   ]
  },
  {
   "cell_type": "code",
   "execution_count": null,
   "metadata": {},
   "outputs": [],
   "source": [
    "w = 1\n",
    "t = 2\n",
    "mask = hiddenVisible_mask(window=w,t_x=t,t_y=t,nVisible=data.shape[1])"
   ]
  },
  {
   "cell_type": "code",
   "execution_count": null,
   "metadata": {},
   "outputs": [],
   "source": [
    "cov_mask = np.zeros((data.shape[1],data.shape[1]))\n",
    "for j in range(mask.shape[1]):\n",
    "    visibles = np.where(mask[:,j]==1)[0]\n",
    "    for i in range(len(visibles)):\n",
    "        for k in range(i,len(visibles)):\n",
    "            cov_mask[visibles[i],visibles[k]] = 1\n",
    "            cov_mask[visibles[k],visibles[i]] = 1\n",
    "sb.heatmap(cov_mask)"
   ]
  },
  {
   "cell_type": "code",
   "execution_count": null,
   "metadata": {},
   "outputs": [],
   "source": [
    "cov1 = Cov().fit(data).covariance_\n",
    "cov2 = cov_mask*cov1\n",
    "sb.heatmap(cov1)\n",
    "plt.show()\n",
    "sb.heatmap(cov2)\n",
    "plt.show()"
   ]
  },
  {
   "cell_type": "markdown",
   "metadata": {},
   "source": [
    "# Determinant of the covariance matrix"
   ]
  },
  {
   "cell_type": "code",
   "execution_count": null,
   "metadata": {},
   "outputs": [],
   "source": [
    "import scipy\n",
    "det1 = scipy.linalg.det(cov1)\n",
    "det2 = scipy.linalg.det(cov2)"
   ]
  },
  {
   "cell_type": "code",
   "execution_count": null,
   "metadata": {},
   "outputs": [],
   "source": [
    "det1 = np.linalg.slogdet(cov1)\n",
    "det2 = np.linalg.slogdet(cov2)"
   ]
  },
  {
   "cell_type": "code",
   "execution_count": null,
   "metadata": {},
   "outputs": [],
   "source": [
    "det2"
   ]
  },
  {
   "cell_type": "code",
   "execution_count": null,
   "metadata": {},
   "outputs": [],
   "source": [
    "entropy_diff = np.log(det1/det2)\n",
    "print(entropy_diff)"
   ]
  },
  {
   "cell_type": "code",
   "execution_count": null,
   "metadata": {},
   "outputs": [],
   "source": [
    "metric = np.mean(np.abs(cov1-cov2))\n",
    "print(data_name)\n",
    "print(metric)"
   ]
  },
  {
   "cell_type": "code",
   "execution_count": null,
   "metadata": {},
   "outputs": [],
   "source": [
    "datasets = [\"identity\",\"fashion_mnist\",\"breastmnist\",\"pneumoniamnist\",\"chestmnist\"]\n",
    "w = 2\n",
    "t = 3\n",
    "mask = hiddenVisible_mask(window=w,t_x=t,t_y=t,nVisible=data.shape[1])\n",
    "cov_mask = np.zeros((data.shape[1],data.shape[1]))\n",
    "for j in range(mask.shape[1]):\n",
    "    visibles = np.where(mask[:,j]==1)[0]\n",
    "    for i in range(len(visibles)):\n",
    "        for k in range(i,len(visibles)):\n",
    "            cov_mask[visibles[i],visibles[k]] = 1\n",
    "            cov_mask[visibles[k],visibles[i]] = 1\n",
    "metrics = []\n",
    "for data_name in datasets:\n",
    "    data,lab = from_dataset_to_array(data_name = data_name)\n",
    "    cov1 = Cov().fit(data).covariance_\n",
    "    cov2 = cov_mask*cov1\n",
    "    metric = np.mean(np.abs(cov1-cov2))\n",
    "    metrics.append(metric)\n",
    "for data_name,metric in zip(datasets,metrics):\n",
    "    print(\"Data: %s, metric: %s\\n\"%(data_name,metric))"
   ]
  },
  {
   "cell_type": "markdown",
   "metadata": {},
   "source": [
    "# Linear regresion"
   ]
  },
  {
   "cell_type": "code",
   "execution_count": 9,
   "metadata": {},
   "outputs": [],
   "source": [
    "from sklearn.linear_model import LinearRegression as linreg\n",
    "import Launch_Experiments\n",
    "from Save_Load import from_dataset_to_array\n",
    "from Mask import hiddenVisible_mask\n",
    "from RBM import RBM\n",
    "import pandas as pd\n",
    "import seaborn as sn\n",
    "data_dict = {\"pneumoniamnist\":\"Pneumonia\",\n",
    "            \"breastmnist\":\"Breast\",\n",
    "            \"identity\":\"MNIST\",\n",
    "            \"fashion_mnist\":\"Fashion\"}\n",
    "PARAMS_DICT_1 = [{\"window\":1,\"stride\":2,\"model_name\":\"SBM 196\"},\n",
    "                {\"window_list\":[1,2],\"stride_list\":[3,3],\"model_name\":\"SBM 162\"},\n",
    "                {\"window\":3,\"stride\":2,\"model_name\":\"SBM 144\"},\n",
    "                {\"window_list\":[2,3,4],\"stride_list\":[4,4,4],\"model_name\":\"SBM 121\"},\n",
    "                {\"window\":2,\"stride\":3,\"model_name\":\"SBM 81\"},\n",
    "               ]\n",
    "SIZE = 500\n",
    "PARAMS_DICT_1 = [{\"window_list\":[4,4],\"stride_list\":[2,1],\"model_name\":\"SBM 562\"},\n",
    "                {\"window_list\":[3,4],\"stride_list\":[2,1],\"model_name\":\"SBM 585\"},\n",
    "                {\"window_list\":[3,4],\"stride_list\":[2,2],\"model_name\":\"SBM 265\"},\n",
    "                {\"window\":4,\"stride\":1,\"model_name\":\"SBM 441\"},\n",
    "                {\"window\":4,\"stride\":2,\"model_name\":\"SBM 121\"},\n",
    "                {\"window\":3,\"stride\":2,\"model_name\":\"SBM 144\"},\n",
    "               ]"
   ]
  },
  {
   "cell_type": "code",
   "execution_count": 10,
   "metadata": {},
   "outputs": [
    {
     "name": "stdout",
     "output_type": "stream",
     "text": [
      "Using downloaded and verified file: /Users/abidaurrazaga/.medmnist/pneumoniamnist.npz\n",
      "Size 4708\n",
      "0\n",
      "100\n",
      "200\n",
      "300\n",
      "400\n",
      "500\n",
      "600\n",
      "700\n",
      "SBM 562\n"
     ]
    },
    {
     "name": "stderr",
     "output_type": "stream",
     "text": [
      "2022-09-26 17:42:27.352206: I tensorflow/core/platform/cpu_feature_guard.cc:151] This TensorFlow binary is optimized with oneAPI Deep Neural Network Library (oneDNN) to use the following CPU instructions in performance-critical operations:  AVX2 FMA\n",
      "To enable them in other operations, rebuild TensorFlow with the appropriate compiler flags.\n"
     ]
    },
    {
     "name": "stdout",
     "output_type": "stream",
     "text": [
      "SBM 585\n",
      "SBM 265\n",
      "SBM 441\n",
      "SBM 121\n",
      "SBM 144\n",
      "     Model    Dataset  Mean_score_diff  Std_score_diff\n",
      "0  SBM 562  Pneumonia         0.003304        0.003969\n",
      "1  SBM 585  Pneumonia         0.003590        0.004207\n",
      "2  SBM 265  Pneumonia         0.003817        0.005064\n",
      "3  SBM 441  Pneumonia         0.003295        0.003909\n",
      "4  SBM 121  Pneumonia         0.003192        0.004445\n",
      "5  SBM 144  Pneumonia         0.004630        0.005964\n",
      "Using downloaded and verified file: /Users/abidaurrazaga/.medmnist/breastmnist.npz\n",
      "Size 546\n",
      "0\n",
      "100\n",
      "200\n",
      "300\n",
      "400\n",
      "500\n",
      "600\n",
      "700\n",
      "SBM 562\n",
      "SBM 585\n",
      "SBM 265\n",
      "SBM 441\n",
      "SBM 121\n",
      "SBM 144\n",
      "      Model    Dataset  Mean_score_diff  Std_score_diff\n",
      "0   SBM 562  Pneumonia         0.003304        0.003969\n",
      "1   SBM 585  Pneumonia         0.003590        0.004207\n",
      "2   SBM 265  Pneumonia         0.003817        0.005064\n",
      "3   SBM 441  Pneumonia         0.003295        0.003909\n",
      "4   SBM 121  Pneumonia         0.003192        0.004445\n",
      "5   SBM 144  Pneumonia         0.004630        0.005964\n",
      "6   SBM 562     Breast         0.012302        0.006696\n",
      "7   SBM 585     Breast         0.012759        0.006914\n",
      "8   SBM 265     Breast         0.012858        0.007538\n",
      "9   SBM 441     Breast         0.012367        0.006728\n",
      "10  SBM 121     Breast         0.011861        0.006973\n",
      "11  SBM 144     Breast         0.014148        0.008250\n",
      "0\n",
      "100\n",
      "200\n",
      "300\n",
      "400\n",
      "500\n",
      "600\n",
      "700\n",
      "SBM 562\n",
      "SBM 585\n",
      "SBM 265\n",
      "SBM 441\n",
      "SBM 121\n",
      "SBM 144\n",
      "      Model    Dataset  Mean_score_diff  Std_score_diff\n",
      "0   SBM 562  Pneumonia         0.003304        0.003969\n",
      "1   SBM 585  Pneumonia         0.003590        0.004207\n",
      "2   SBM 265  Pneumonia         0.003817        0.005064\n",
      "3   SBM 441  Pneumonia         0.003295        0.003909\n",
      "4   SBM 121  Pneumonia         0.003192        0.004445\n",
      "5   SBM 144  Pneumonia         0.004630        0.005964\n",
      "6   SBM 562     Breast         0.012302        0.006696\n",
      "7   SBM 585     Breast         0.012759        0.006914\n",
      "8   SBM 265     Breast         0.012858        0.007538\n",
      "9   SBM 441     Breast         0.012367        0.006728\n",
      "10  SBM 121     Breast         0.011861        0.006973\n",
      "11  SBM 144     Breast         0.014148        0.008250\n",
      "12  SBM 562      MNIST         0.085876        0.658213\n",
      "13  SBM 585      MNIST         0.083490        0.582481\n",
      "14  SBM 265      MNIST         0.075526        0.380472\n",
      "15  SBM 441      MNIST         0.087634        0.707536\n",
      "16  SBM 121      MNIST         0.079705        0.525078\n",
      "17  SBM 144      MNIST         0.072435        0.238748\n",
      "0\n",
      "100\n",
      "200\n",
      "300\n",
      "400\n",
      "500\n",
      "600\n",
      "700\n",
      "SBM 562\n",
      "SBM 585\n",
      "SBM 265\n",
      "SBM 441\n",
      "SBM 121\n",
      "SBM 144\n",
      "      Model    Dataset  Mean_score_diff  Std_score_diff\n",
      "0   SBM 562  Pneumonia         0.003304        0.003969\n",
      "1   SBM 585  Pneumonia         0.003590        0.004207\n",
      "2   SBM 265  Pneumonia         0.003817        0.005064\n",
      "3   SBM 441  Pneumonia         0.003295        0.003909\n",
      "4   SBM 121  Pneumonia         0.003192        0.004445\n",
      "5   SBM 144  Pneumonia         0.004630        0.005964\n",
      "6   SBM 562     Breast         0.012302        0.006696\n",
      "7   SBM 585     Breast         0.012759        0.006914\n",
      "8   SBM 265     Breast         0.012858        0.007538\n",
      "9   SBM 441     Breast         0.012367        0.006728\n",
      "10  SBM 121     Breast         0.011861        0.006973\n",
      "11  SBM 144     Breast         0.014148        0.008250\n",
      "12  SBM 562      MNIST         0.085876        0.658213\n",
      "13  SBM 585      MNIST         0.083490        0.582481\n",
      "14  SBM 265      MNIST         0.075526        0.380472\n",
      "15  SBM 441      MNIST         0.087634        0.707536\n",
      "16  SBM 121      MNIST         0.079705        0.525078\n",
      "17  SBM 144      MNIST         0.072435        0.238748\n",
      "18  SBM 562    Fashion         0.059996        0.045194\n",
      "19  SBM 585    Fashion         0.062105        0.047240\n",
      "20  SBM 265    Fashion         0.062944        0.049342\n",
      "21  SBM 441    Fashion         0.060275        0.045156\n",
      "22  SBM 121    Fashion         0.058409        0.045853\n",
      "23  SBM 144    Fashion         0.068884        0.053489\n"
     ]
    }
   ],
   "source": [
    "columns = [\"Model\",\"Dataset\",\"Mean_score_diff\",\"Std_score_diff\"]\n",
    "\n",
    "df = pd.DataFrame(columns=columns)\n",
    "for key in data_dict:\n",
    "    score1 = []\n",
    "\n",
    "    data,_ = from_dataset_to_array(data_name = key,size = SIZE)\n",
    "    #print(data.shape)\n",
    "\n",
    "    for ind in range(data.shape[1]):\n",
    "        if ind%100==0:\n",
    "            print(ind)\n",
    "        d = data[:,np.arange(data.shape[1])!=ind]\n",
    "        reg = linreg().fit(d,data[:,ind])\n",
    "        score1.append(reg.score(d,data[:,ind]))\n",
    "\n",
    "    for args in PARAMS_DICT_1:\n",
    "        print(args[\"model_name\"])\n",
    "        score = []\n",
    "        values = [args[\"model_name\"],data_dict[key]]\n",
    "        ind_dict = dict()\n",
    "        window = args.get(\"window\",0)\n",
    "        stride = args.get(\"stride\",0)\n",
    "        \n",
    "        window_list = args.get(\"window_list\",[])\n",
    "        stride_list = args.get(\"stride_list\",[])\n",
    "        rbm = RBM(window=window,stride=stride,window_list=window_list,stride_list=stride_list,nVisible=data.shape[1])\n",
    "        mask = rbm.mask\n",
    "        for h in range(mask.shape[1]):\n",
    "            neigh_indexes = np.where(mask[:,h]==1)[0]\n",
    "            for ind in neigh_indexes:\n",
    "                if ind in ind_dict:\n",
    "                    ind_dict[ind].append(neigh_indexes[np.where(neigh_indexes!=ind)])\n",
    "                else:\n",
    "                    ind_dict[ind] = [neigh_indexes[np.where(neigh_indexes!=ind)]]\n",
    "\n",
    "\n",
    "        for ind in range(data.shape[1]):\n",
    "            #if ind%100==0:\n",
    "            #    print(ind)\n",
    "            s = []\n",
    "            for neigh in ind_dict[ind]:\n",
    "                d = data[:,neigh]\n",
    "                reg = linreg().fit(d,data[:,ind])\n",
    "                s.append(reg.score(d,data[:,ind]))\n",
    "            score.append(np.mean(s))\n",
    "        dif = np.array(score1)-np.array(score)\n",
    "        values.append(np.mean(dif))\n",
    "        values.append(np.std(dif))\n",
    "        df.loc[len(df.index)] = values\n",
    "    print(df)"
   ]
  },
  {
   "cell_type": "code",
   "execution_count": 11,
   "metadata": {},
   "outputs": [],
   "source": [
    "df.to_csv(os.path.join(MAIN,\"CSV\",\"Scores_datasets_new_models\"))"
   ]
  },
  {
   "cell_type": "code",
   "execution_count": 14,
   "metadata": {},
   "outputs": [
    {
     "data": {
      "image/png": "[encoded data removed]",
      "text/plain": [
       "<Figure size 709.828x360 with 1 Axes>"
      ]
     },
     "metadata": {},
     "output_type": "display_data"
    }
   ],
   "source": [
    "plt.rcParams.update({\n",
    "    \"text.usetex\": True,\n",
    "    \"font.family\": \"sans-serif\",\n",
    "    \"font.sans-serif\": [\"Lucida\"]})\n",
    "df = pd.read_csv(os.path.join(MAIN,\"CSV\",\"Scores_datasets_new_models\"))\n",
    "df[\"Mean_score_diff\"] = 100*df[\"Mean_score_diff\"]\n",
    "sn.set(font_scale=1.5)\n",
    "ax = sn.catplot(data=df,x=\"Model\",y=\"Mean_score_diff\",order=[\"SBM 121\",\"SBM 144\",\"SBM 265\",\"SBM 441\",\"SBM 562\",\"SBM 585\"],hue=\"Dataset\",kind=\"point\",\n",
    "height=5,aspect=1.6,hue_order = [\"MNIST\",\"Fashion\",\"Pneumonia\",\"Breast\"])\n",
    "ax.set(ylabel=\"Score difference($10^{-2}$)\")\n",
    "#ax.fill_between(df[\"Model\"], y1=df[\"Mean_score_diff\"] - df[\"Std_score_diff\"], y2=df[\"Mean_score_diff\"] + df[\"Std_score_diff\"], alpha=.5)\n",
    "plt.savefig(os.path.join(MAIN,\"Images\",\"SBM_metric_new_models.pdf\"))"
   ]
  },
  {
   "cell_type": "markdown",
   "metadata": {},
   "source": [
    "# CNN to check how it works with MNIST-C"
   ]
  },
  {
   "cell_type": "code",
   "execution_count": null,
   "metadata": {},
   "outputs": [],
   "source": [
    "#importing the necessary modules\n",
    "from keras.datasets import mnist\n",
    "import numpy as np\n",
    "\n",
    "(xtrain,ytrain),(xtest,ytest)=mnist.load_data()\n",
    "\n",
    "#reshaping data as needed by the model\n",
    "xtrain=np.reshape(xtrain,(-1,28,28,1))\n",
    "xtest=np.reshape(xtest,(-1,28,28,1))\n",
    "xtrain.shape,xtest.shape,ytrain.shape,ytest.shape\n",
    "\n",
    "#normalising\n",
    "xtrain=xtrain/255\n",
    "xtest=xtest/255\n",
    "\n",
    "#implementing one hot encoding\n",
    "from keras.utils.np_utils import to_categorical\n",
    "y_train = to_categorical(ytrain, num_classes=10)\n",
    "y_test = to_categorical(ytest, num_classes=10)"
   ]
  },
  {
   "cell_type": "code",
   "execution_count": null,
   "metadata": {},
   "outputs": [],
   "source": [
    "#importing the model\n",
    "from keras.models import Sequential\n",
    "import keras\n",
    "\n",
    "model=Sequential()\n",
    "\n",
    "from keras.layers import Conv2D,MaxPooling2D,Flatten,Dense,Dropout\n",
    "\n",
    "#adding layers and forming the model\n",
    "model.add(Conv2D(32,kernel_size=5,strides=1,padding=\"Same\",activation=\"relu\",input_shape=(28,28,1)))\n",
    "model.add(MaxPooling2D(padding=\"same\"))\n",
    "\n",
    "model.add(Conv2D(64,kernel_size=5,strides=1,padding=\"same\",activation=\"relu\"))\n",
    "model.add(MaxPooling2D(padding=\"same\"))\n",
    "\n",
    "model.add(Flatten())\n",
    "\n",
    "model.add(Dense(1024,activation=\"relu\"))\n",
    "model.add(Dropout(0.2))\n",
    "model.add(Dense(10,activation=\"sigmoid\"))\n",
    "\n",
    "#compiling\n",
    "model.compile(optimizer=\"adam\",loss=\"categorical_crossentropy\",metrics=[\"log_loss\"])"
   ]
  },
  {
   "cell_type": "code",
   "execution_count": null,
   "metadata": {},
   "outputs": [],
   "source": [
    "#training the model\n",
    "TRAIN = False\n",
    "if TRAIN:\n",
    "    model.fit(xtrain,y_train,batch_size=100,epochs=5,validation_data=(xtest,y_test))\n",
    "    model.save(os.path.join(MAIN,'CNN_MNIST.h5'))\n",
    "else:\n",
    "    model = keras.models.load_model(os.path.join(MAIN,'CNN_MNIST.h5'))\n"
   ]
  },
  {
   "cell_type": "code",
   "execution_count": null,
   "metadata": {},
   "outputs": [],
   "source": [
    "model.evaluate(xtrain,y_train),model.evaluate(xtest,y_test)"
   ]
  },
  {
   "cell_type": "code",
   "execution_count": null,
   "metadata": {},
   "outputs": [],
   "source": [
    "import Launch_Experiments\n",
    "import pandas as pd\n",
    "df = pd.DataFrame(columns=[\"Noise_name\",\"corrupted_logloss\"])\n",
    "for corruption in Launch_Experiments.CORRUPTIONS:\n",
    "    test_corrupted,test_label = from_dataset_to_array(data_name = corruption,split = \"test\")\n",
    "    test_corrupted=np.reshape(test_corrupted,(-1,28,28,1))\n",
    "    #test_label = to_categorical(test_label, num_classes=10)\n",
    "    values = [corruption,model.evaluate(test_corrupted,test_label)[0]]\n",
    "    df.loc[len(df.index)] = values"
   ]
  },
  {
   "cell_type": "code",
   "execution_count": null,
   "metadata": {},
   "outputs": [],
   "source": [
    "import seaborn as sn\n",
    "DATA_NAME = \"CNN_MNIST_C\"\n",
    "TASK = \"Supervised\"\n",
    "versus = \"nHidden\"\n",
    "metric = \"corrupted_logloss\"\n",
    "ax = sn.catplot(x=\"Noise_name\", y=metric,\n",
    "\n",
    "                data=df, kind=\"bar\",\n",
    "\n",
    "                height=4, aspect=1.6,sharey=False,margin_titles=False)\n",
    "\n",
    "ax.set(ylabel=\"Log-loss\")\n",
    "ax.set(xlabel=None)\n",
    "\n",
    "#ax.set_titles(template='{col_name}')\n",
    "ax.set_xticklabels(rotation=30)\n",
    "\n",
    "plt.savefig(os.path.join(MAIN,\"Images\",\"%s_%s_%s_%s.pdf\"%(DATA_NAME,TASK,metric,versus)))\n",
    "print(os.path.join(MAIN,\"Images\",\"%s_%s_%s_%s.pdf\"%(DATA_NAME,TASK,metric,versus)))\n",
    "plt.show()"
   ]
  },
  {
   "cell_type": "markdown",
   "metadata": {},
   "source": [
    "# Load MedMNIST"
   ]
  },
  {
   "cell_type": "code",
   "execution_count": null,
   "metadata": {},
   "outputs": [],
   "source": [
    "#!pip install medmnist"
   ]
  },
  {
   "cell_type": "code",
   "execution_count": null,
   "metadata": {},
   "outputs": [],
   "source": [
    "from tqdm import tqdm\n",
    "import numpy as np\n",
    "\n",
    "import medmnist\n",
    "from medmnist import INFO, Evaluator"
   ]
  },
  {
   "cell_type": "code",
   "execution_count": null,
   "metadata": {},
   "outputs": [],
   "source": [
    "print(f\"MedMNIST v{medmnist.__version__} @ {medmnist.HOMEPAGE}\")"
   ]
  },
  {
   "cell_type": "code",
   "execution_count": null,
   "metadata": {},
   "outputs": [],
   "source": [
    "import dataset_without_pytorch\n",
    "\n",
    "from dataset_without_pytorch import get_loader"
   ]
  },
  {
   "cell_type": "code",
   "execution_count": null,
   "metadata": {},
   "outputs": [],
   "source": [
    "INFO"
   ]
  },
  {
   "cell_type": "code",
   "execution_count": null,
   "metadata": {},
   "outputs": [],
   "source": [
    "data_flag = 'chestmnist'\n",
    "# data_flag = 'breastmnist'\n",
    "download = True\n",
    "\n",
    "info = INFO[data_flag]\n",
    "task = info['task']\n",
    "n_channels = info['n_channels']\n",
    "nClasses = len(info['label'])\n",
    "\n",
    "NUM_EPOCHS = 3\n",
    "SPLIT = \"val\"\n",
    "BATCH_SIZE = info[\"n_samples\"][SPLIT]\n",
    "lr = 0.001\n",
    "\n",
    "DataClass = getattr(dataset_without_pytorch, info['pythonClass'])"
   ]
  },
  {
   "cell_type": "code",
   "execution_count": null,
   "metadata": {},
   "outputs": [],
   "source": [
    "# load the data\n",
    "train_dataset = DataClass(split=SPLIT, download=download)\n",
    "\n",
    "# encapsulate data into dataloader form\n",
    "train_loader = get_loader(dataset=train_dataset, batch_size=BATCH_SIZE)"
   ]
  },
  {
   "cell_type": "code",
   "execution_count": null,
   "metadata": {},
   "outputs": [],
   "source": [
    "train_dataset.montage(length=20)"
   ]
  },
  {
   "cell_type": "code",
   "execution_count": null,
   "metadata": {},
   "outputs": [],
   "source": [
    "for x,y in train_loader:\n",
    "    print(type(x))\n",
    "    print(type(y))\n",
    "    print(x.shape)\n",
    "    print(y.shape)\n",
    "    break"
   ]
  },
  {
   "cell_type": "markdown",
   "metadata": {},
   "source": [
    "# Unsupervised learning"
   ]
  },
  {
   "cell_type": "markdown",
   "metadata": {},
   "source": [
    "## Load data and split into train/valid sets"
   ]
  },
  {
   "cell_type": "code",
   "execution_count": null,
   "metadata": {},
   "outputs": [],
   "source": [
    "from Save_Load import from_dataset_to_array\n",
    "\n",
    "print(\"This may take some time\")\n",
    "CORRUPTED,CORRUPTED_LABEL = from_dataset_to_array(data_name = \"shot_noise\") \n",
    "DATA,DATA_LABEL = from_dataset_to_array(data_name = \"identity\")\n",
    "\n",
    "val_split = 1/3\n",
    "train_data,val_data = train_test_split(DATA, test_size = val_split,random_state = 42)\n",
    "train_corrupted,val_corrupted = train_test_split(CORRUPTED, test_size = val_split,random_state = 42)\n"
   ]
  },
  {
   "cell_type": "markdown",
   "metadata": {},
   "source": [
    "## Set metrics to measure during training"
   ]
  },
  {
   "cell_type": "code",
   "execution_count": null,
   "metadata": {},
   "outputs": [],
   "source": [
    "\"\"\"Different parameters like patience or minimum change (min_delta) can be set to apply earlystopping\"\"\"\n",
    "\n",
    "metrics = [{\"name\":\"recon_mse\",\"patience\":10,\"min_delta\":0.0,\"optimize\":\"\"},\n",
    "               {\"name\":\"free_energy\",\"patience\":10,\"max_value\":5,\"optimize\":\"\"},\n",
    "               {\"name\":\"LL\",\"patience\":10,\"min_delta\":0.0000,\"optimize\":\"max\"}]"
   ]
  },
  {
   "cell_type": "markdown",
   "metadata": {},
   "source": [
    "## Set RBM and training parameters\n"
   ]
  },
  {
   "cell_type": "code",
   "execution_count": null,
   "metadata": {},
   "outputs": [],
   "source": [
    "EPOCHS = 21 # Time to train for each epoch approx 1 minute, and each model is repeated 10 times, thus, elapsed time will be [0.15,0.22]*epochs hours.\n",
    "             # For 100 epochs, maximum time limit should be 24 hours. \n",
    "             # Partitions(Walltime in hours)-> short(0.5), medium(6), large(120)\n",
    "\n",
    "lr = 0.01\n",
    "momentum = 0.5\n",
    "batch_size = 2**6\n",
    "SEED = 9\n",
    "\n",
    "nHidden = 1000#81*5\n",
    "\n",
    "window = 1\n",
    "stride = 2\n",
    "\n",
    "window_list = []#[2,3,4]\n",
    "stride_list = []#[4,4,4]\n",
    "\n",
    "\n",
    "dim = 28\n",
    "\n",
    "kwargs = vars_to_dict(batch_size = batch_size,nVisible = 28*28,nHidden = nHidden,\n",
    "                      window = window, stride = stride, window_list = window_list, stride_list = stride_list,\n",
    "                      epochs = EPOCHS,k_gibbs = 1,\n",
    "                      MAIN = MAIN,metrics = metrics,train_data=train_data,val_data=val_data,\n",
    "                      train_corrupted=train_corrupted,val_corrupted=val_corrupted,seed = SEED,\n",
    "                      lr = lr,momentum = momentum, dtype = dtype)\n"
   ]
  },
  {
   "cell_type": "markdown",
   "metadata": {},
   "source": [
    "### Initialise and train model"
   ]
  },
  {
   "cell_type": "code",
   "execution_count": null,
   "metadata": {},
   "outputs": [],
   "source": [
    "kwargs[\"n_fold\"] = 5\n",
    "rbm = RBM(**kwargs)\n",
    "rbm.batch_size = batch_size\n",
    "rbm.epochs = EPOCHS\n",
    "print(\"Name of the RBM if saved: %s\"%rbm.get_name())\n",
    "rbm.K = 2000\n",
    "rbm.M = 512\n",
    "rbm.fit(LL_epochs = 5,**kwargs)"
   ]
  },
  {
   "cell_type": "markdown",
   "metadata": {},
   "source": [
    "## Save/Load the model for future evaluations\n"
   ]
  },
  {
   "cell_type": "code",
   "execution_count": null,
   "metadata": {},
   "outputs": [],
   "source": [
    "from Save_Load import save_rbm,load_rbm\n",
    "\n",
    "save_rbm(rbm,**kwargs)"
   ]
  },
  {
   "cell_type": "code",
   "execution_count": null,
   "metadata": {},
   "outputs": [],
   "source": [
    "rbm = load_rbm(\"RBM_nHidden_196_method_LL_window_1_stride_2_seed_42_epochs_30_lr_001_momentum_095_batch_size_16\",MAIN=MAIN)"
   ]
  },
  {
   "cell_type": "markdown",
   "metadata": {},
   "source": [
    "## Visualise results\n"
   ]
  },
  {
   "cell_type": "markdown",
   "metadata": {},
   "source": [
    "###  Visualise measured metrics(LL is computed every 5 epochs)"
   ]
  },
  {
   "cell_type": "code",
   "execution_count": null,
   "metadata": {},
   "outputs": [],
   "source": [
    "from Plot import plot_errors\n",
    "\n",
    "for metric in metrics:\n",
    "  plot_errors([rbm.history[s+metric[\"name\"]] for s in [\"train_\",\"val_\"]],\n",
    "              [(\"$\"+s+metric[\"name\"]+\"$\").replace(\"_\",\"\\_\") for s in [\"train_\",\"val_\"]],ylabel = metric[\"name\"],title = \"\" )\n"
   ]
  },
  {
   "cell_type": "markdown",
   "metadata": {},
   "source": [
    "# Classifier RBM"
   ]
  },
  {
   "cell_type": "code",
   "execution_count": null,
   "metadata": {},
   "outputs": [],
   "source": [
    "#Supervised Learning\n",
    "#Load data and split into train/valid sets\n",
    "\n",
    "from Save_Load import from_dataset_to_array\n",
    "\n",
    "size = -1\n",
    "\n",
    "#CORRUPTED,CORRUPTED_LABEL = from_dataset_to_array(data_name = \"shot_noise\",size = size) \n",
    "DATA,DATA_LABEL = from_dataset_to_array(data_name = \"fashion_mnist\", size = size)\n",
    "\n",
    "val_split = 1/3\n",
    "train_data,val_data = train_test_split(DATA, test_size = val_split,random_state = 42)\n",
    "#train_corrupted,val_corrupted = train_test_split(CORRUPTED, test_size = val_split,random_state = 42)\n",
    "\n",
    "#One-hot labels\n",
    "\n",
    "from sklearn.preprocessing import OneHotEncoder\n",
    "\n",
    "train_data_y,val_data_y = train_test_split(DATA_LABEL, test_size = val_split,random_state = 42)\n",
    "#train_corrupted_y,val_corrupted_y = train_test_split(CORRUPTED_LABEL, test_size = val_split,random_state = 42)\n",
    "\n",
    "enc = OneHotEncoder(sparse = False,dtype = \"float32\")\n",
    "enc.fit(np.array([i for i in range(10)]).reshape(-1,1))\n",
    "train_data_y = enc.transform(train_data_y.reshape(-1,1))\n",
    "val_data_y = enc.transform(val_data_y.reshape(-1,1))\n",
    "#train_corrupted_y = enc.transform(train_corrupted_y.reshape(-1,1))\n",
    "#val_corrupted_y = enc.transform(val_corrupted_y.reshape(-1,1))\n",
    "\n",
    "#Set metrics to measure during training\n",
    "\n",
    "\"\"\"Different parameters like patience or minimum change (min_delta) can be set to apply earlystopping\"\"\"\n",
    "\n",
    "metrics = [{\"name\":\"roc\",\"min_delta\":0.00001,\"optimize\":\"max\"},\n",
    "           {\"name\":\"accuracy\",\"min_delta\":0.00001,\"optimize\":\"max\"},]\n"
   ]
  },
  {
   "cell_type": "code",
   "execution_count": null,
   "metadata": {},
   "outputs": [],
   "source": [
    "EPOCHS = 20\n",
    "lr = 0.5\n",
    "momentum = 0.9\n",
    "SEED = 42\n",
    "batch_size = 2**6\n",
    "\n",
    "nVisible = 28*28\n",
    "nClass = 10\n",
    "nHidden = 196\n",
    "\n",
    "window = 1\n",
    "stride = 2\n",
    "\n",
    "window_list = []\n",
    "stride_list = []\n",
    "\n",
    "dim = 28\n",
    "\n",
    "kwargs = vars_to_dict(batch_size = batch_size,nVisible = nVisible,nHidden = nHidden,nClass = nClass,\n",
    "                      window = window, stride = stride, window_list = window_list, stride_list = stride_list,\n",
    "                      #mask = mask,name = \"_permuted_neighbours\",\n",
    "                      epochs = EPOCHS,k_gibbs = 1,MAIN = MAIN,metrics = metrics,train_size = size,\n",
    "                      train_data=train_data,val_data=val_data, name = \"_FashionMNIST\",\n",
    "                      train_data_y=train_data_y,val_data_y=val_data_y,\n",
    "                      seed = SEED,lr = lr,momentum = momentum, dtype = dtype)\n",
    "\n",
    "#Initialize and train the model\n",
    "\n",
    "classrbm = classRBM(**kwargs)\n",
    "classrbm.batch_size = batch_size\n",
    "classrbm.epochs = EPOCHS\n",
    "print(\"Name of the RBM if saved: %s\"%classrbm.get_name())\n",
    "classrbm.fit(**kwargs)"
   ]
  },
  {
   "cell_type": "code",
   "execution_count": null,
   "metadata": {},
   "outputs": [],
   "source": [
    "from Save_Load import save_rbm,load_rbm\n",
    "\n",
    "save_rbm(classrbm,**kwargs)"
   ]
  },
  {
   "cell_type": "code",
   "execution_count": null,
   "metadata": {},
   "outputs": [],
   "source": [
    "from Plot import plot_errors\n",
    "\n",
    "for metric in metrics:\n",
    "  plot_errors([classrbm.history[s+metric[\"name\"]] for s in [\"train_\",\"val_\"]],\n",
    "              [(\"$\"+s+metric[\"name\"]+\"$\").replace(\"_\",\"\\_\") for s in [\"train_\",\"val_\"]],ylabel = metric[\"name\"],title = \"\" )"
   ]
  },
  {
   "cell_type": "code",
   "execution_count": null,
   "metadata": {},
   "outputs": [],
   "source": [
    "#Confusion matrix on test\n",
    "\n",
    "TEST,TEST_LABEL = from_dataset_to_array(data_name = \"fashion_mnist\",split = \"test\", size = size)\n",
    " \n",
    "enc = OneHotEncoder(sparse = False,dtype = \"float32\")\n",
    "enc.fit(np.array([i for i in range(10)]).reshape(-1,1))\n",
    "TEST_LABEL = enc.transform(TEST_LABEL.reshape(-1,1))\n",
    "\n",
    "from sklearn.metrics import confusion_matrix as Confusion\n",
    "import matplotlib.pyplot as plt\n",
    "import seaborn as sn\n",
    "\n",
    "y_true = enc.inverse_transform(TEST_LABEL)\n",
    "y_pred = enc.inverse_transform(classrbm.sample_class_from_probs(classrbm.predict(TEST)))\n",
    "\n",
    "conf_mat = Confusion(y_true,y_pred)\n",
    "plt.figure(figsize = (10,7))\n",
    "fig = sn.heatmap(conf_mat, annot=True)\n",
    "\n",
    "from sklearn.metrics import accuracy_score as ACCURACY\n",
    "\n",
    "print(\"Accuracy on Test: %s\"%ACCURACY(y_true,y_pred))\n",
    "\n",
    "print(\"Percentage of number of parameters with respect to the free model: %s\"%round(100*np.sum(classrbm.mask)/np.sum(np.ones(classrbm.mask.shape)))+\"%\")"
   ]
  },
  {
   "cell_type": "code",
   "execution_count": null,
   "metadata": {},
   "outputs": [],
   "source": [
    "\n",
    "#Visualise reconstruction\n",
    "\n",
    "from Plot import plot_reconstruction\n",
    "\n",
    "CORRUPTION = \"shot_noise\"\n",
    "fig,ax = plot_reconstruction(rbm,corruption = CORRUPTION,n=10,title = \"Reconstruction %s\"%CORRUPTION,save = False,\n",
    "                             k=1,figsize = (12,6))\n",
    "\n",
    "#Multiple corruption reconstruction error boxplots\n",
    "\n",
    "CORRUPTIONS = [\n",
    "    'shot_noise',\n",
    "    'impulse_noise',\n",
    "    'glass_blur',\n",
    "    'motion_blur',\n",
    "    'fog',\n",
    "    'spatter',\n",
    "    'dotted_line',\n",
    "    'zigzag',\n",
    "]\n",
    "\n",
    "from Plot import evaluate_corruption_recon,boxplots\n",
    "\n",
    "errors = evaluate_corruption_recon(rbm,corruptions=CORRUPTIONS)\n",
    "\n",
    "boxplots(errors,labels = CORRUPTIONS,title = \"Model reconstruction error for different corruptions\")\n",
    "\n",
    "#Optimize hyperparameters\n",
    "\n",
    "from BayesOpt import *\n",
    "\n",
    "from Save_Load import from_dataset_to_array\n",
    "\n",
    "CORRUPTED,CORRUPTED_LABEL = from_dataset_to_array(data_name = \"shot_noise\") \n",
    "DATA,DATA_LABEL = from_dataset_to_array(data_name = \"identity\")\n",
    "\n",
    "val_split = 1/3\n",
    "train_data,val_data = train_test_split(DATA, test_size = val_split,random_state = 42)\n",
    "train_corrupted,val_corrupted = train_test_split(CORRUPTED, test_size = val_split,random_state = 42)\n",
    "\n",
    "metrics = [{\"name\":\"recon_mse\",\"patience\":30,\"min_delta\":0.0000,\"optimize\":\"min\"},\n",
    "           {\"name\":\"free_energy\",\"max_value\":2.0,\"optimize\":\"min\"},\n",
    "           {\"name\":\"LL\",\"patience\":20,\"min_delta\":0.000000,\"optimize\":\"max\"}]\n",
    "\n",
    "EPOCHS = 20\n",
    "lr = 1E-3\n",
    "momentum = 0.05\n",
    "SEED = 42\n",
    "batch_size = 2**4\n",
    "\n",
    "nHidden = 0\n",
    "\n",
    "window = 1\n",
    "stride = 2\n",
    "\n",
    "window_list = []\n",
    "stride_list = []\n",
    "\n",
    "\n",
    "dim = 28\n",
    "\n",
    "default_kwargs = vars_to_dict(batch_size = batch_size,nVisible = 28*28,nHidden = nHidden,\n",
    "                      window = window, stride = stride, window_list = window_list, stride_list = stride_list,\n",
    "                      epochs = EPOCHS,k = 1,\n",
    "                      MAIN = MAIN,metrics = metrics,train_data=train_data,val_data=val_data,\n",
    "                      train_corrupted=train_corrupted,val_corrupted=val_corrupted,seed = SEED,\n",
    "                      lr = lr,momentum = momentum, dtype = dtype,objective = \"train_LL\",optimize = \"max\")\n",
    "\n",
    "VARIABLES = [{'name': 'lr', 'type': 'continuous', 'domain': (1E-5,1E-1)},\n",
    "             {'name': 'momentum', 'type': 'continuous', 'domain': (0.,0.99)}]\n",
    "\n",
    "Optimizer = BayesOpt(variables = VARIABLES,**default_kwargs,mins=10)\n",
    "\n",
    "print(Optimizer.Y,Optimizer.X)\n",
    "\n",
    "Optimizer.fx_opt\n",
    "\n",
    "Optimizer.x_opt\n",
    "\n",
    "#Multiple experiments\n",
    "#Load data\n",
    "\n",
    "from Save_Load import from_dataset_to_array\n",
    "\n",
    "CORRUPTED,CORRUPTED_LABEL = from_dataset_to_array(data_name = \"shot_noise\") \n",
    "DATA,DATA_LABEL = from_dataset_to_array(data_name = \"identity\")\n",
    "\n",
    "val_split = 1/3\n",
    "train_data,val_data = train_test_split(DATA, test_size = val_split,random_state = 42)\n",
    "train_corrupted,val_corrupted = train_test_split(CORRUPTED, test_size = val_split,random_state = 42)\n",
    "\n",
    "#Set metrics\n",
    "\n",
    "\"\"\"Different parameters like patience or minimum change (min_delta) can be set to apply earlystopping\"\"\"\n",
    "\n",
    "metrics = [{\"name\":\"recon_mse\",\"patience\":30,\"min_delta\":0.0000,\"optimize\":\"min\"},\n",
    "           {\"name\":\"free_energy\",\"max_value\":2.0,\"optimize\":\"min\"},\n",
    "           {\"name\":\"LL\",\"patience\":20,\"min_delta\":0.000000,\"optimize\":\"max\"}]\n",
    "\n",
    "#Set parameters for each model (nHidden,window,...)\n",
    "\n",
    "experiments = [{\"nHidden\":64},{\"nHidden\":100},{\"nHidden\":196},\n",
    "               {\"window\":1,\"stride\":2},{\"window\":2,\"stride\":2},\n",
    "               {\"window\":3,\"stride\":2},\n",
    "               {\"window\":5,\"stride\":2},{\"window\":5,\"stride\":3},\n",
    "               {\"window_list\":[3,4],\"stride_list\":[7,5]},{\"window_list\":[5,4],\"stride_list\":[4,4]},\n",
    "               {\"window_list\":[2,4],\"stride_list\":[3,4]},{\"window_list\":[2,5],\"stride_list\":[3,4]}]\n",
    "\n",
    "EPOCHS = 20\n",
    "lr = 0.01\n",
    "momentum = 0.4\n",
    "SEED = 42\n",
    "batch_size = 2**4\n",
    "\n",
    "\n",
    "dim = 28\n",
    "\n",
    "default_kwargs = vars_to_dict(batch_size = batch_size,nVisible = 28*28, epochs = EPOCHS,k = 1,\n",
    "                      MAIN = MAIN,metrics = metrics,train_data=train_data,val_data=val_data,\n",
    "                      train_corrupted=train_corrupted,val_corrupted=val_corrupted,seed = SEED,\n",
    "                      lr = lr,momentum = momentum, dtype = dtype,objective = \"train_LL\",optimize = \"max\")\n",
    "\n",
    "#Run experiments\n",
    "\n",
    "from Save_Load import save_rbm,load_rbm\n",
    "\n",
    "for exp in experiments:\n",
    "  kwargs = default_kwargs.copy()\n",
    "  for key in exp:\n",
    "    kwargs[key] = exp[key]\n",
    "  rbm = RBM(**kwargs)\n",
    "  rbm.batch_size = batch_size\n",
    "  rbm.epochs = EPOCHS\n",
    "  if os.path.isfile(os.path.join(MAIN,kwargs.get(\"output_dir\",\"Trained RBM/MNIST\"),rbm.get_name())):\n",
    "    if not kwargs.get(\"repeat\",False):\n",
    "      continue\n",
    "  print(rbm.get_name())\n",
    "  rbm.fit(**kwargs)\n",
    "  save_rbm(rbm,**kwargs)\n",
    "  print(\"Final train LL: \"%rbm.history[\"train_LL\"][rbm.opt_ind])\n",
    "  print(\"\")\n",
    "\n",
    "#Supervised Learning\n",
    "#Load data and split into train/valid sets\n",
    "\n",
    "from Save_Load import from_dataset_to_array\n",
    "\n",
    "size = -1\n",
    "\n",
    "#CORRUPTED,CORRUPTED_LABEL = from_dataset_to_array(data_name = \"shot_noise\",size = size) \n",
    "DATA,DATA_LABEL = from_dataset_to_array(data_name = \"fashion_mnist\", size = size)\n",
    "\n",
    "val_split = 1/3\n",
    "train_data,val_data = train_test_split(DATA, test_size = val_split,random_state = 42)\n",
    "#train_corrupted,val_corrupted = train_test_split(CORRUPTED, test_size = val_split,random_state = 42)\n",
    "\n",
    "#One-hot labels\n",
    "\n",
    "from sklearn.preprocessing import OneHotEncoder\n",
    "\n",
    "train_data_y,val_data_y = train_test_split(DATA_LABEL, test_size = val_split,random_state = 42)\n",
    "#train_corrupted_y,val_corrupted_y = train_test_split(CORRUPTED_LABEL, test_size = val_split,random_state = 42)\n",
    "\n",
    "enc = OneHotEncoder(sparse = False,dtype = \"float32\")\n",
    "enc.fit(np.array([i for i in range(10)]).reshape(-1,1))\n",
    "train_data_y = enc.transform(train_data_y.reshape(-1,1))\n",
    "val_data_y = enc.transform(val_data_y.reshape(-1,1))\n",
    "#train_corrupted_y = enc.transform(train_corrupted_y.reshape(-1,1))\n",
    "#val_corrupted_y = enc.transform(val_corrupted_y.reshape(-1,1))\n",
    "\n",
    "#Set metrics to measure during training\n",
    "\n",
    "\"\"\"Different parameters like patience or minimum change (min_delta) can be set to apply earlystopping\"\"\"\n",
    "\n",
    "metrics = [{\"name\":\"roc\",\"min_delta\":0.00001,\"optimize\":\"max\"},\n",
    "           {\"name\":\"accuracy\",\"min_delta\":0.00001,\"optimize\":\"max\"},]\n",
    "\n",
    "#Set RBM and training parameters\n",
    "\n",
    "from Mask import hiddenVisible_mask\n",
    "aux_mask = hiddenVisible_mask(window=1,t_x=3,t_y=3,nVisible=28*28)\n",
    "np.random.seed(42)\n",
    "perm = np.random.choice(28*28,size = 28*28,replace = False)\n",
    "mask = aux_mask[perm,:]\n",
    "plt.imshow(mask,cmap=\"gray\",aspect=\"auto\")\n",
    "\n",
    "EPOCHS = 3\n",
    "lr = 0.01\n",
    "momentum = 0.9\n",
    "SEED = 42\n",
    "batch_size = 2**6\n",
    "\n",
    "nVisible = 28*28\n",
    "nClass = 10\n",
    "nHidden = 196\n",
    "\n",
    "window = 0\n",
    "stride = 0\n",
    "\n",
    "window_list = []\n",
    "stride_list = []\n",
    "\n",
    "dim = 28\n",
    "\n",
    "kwargs = vars_to_dict(batch_size = batch_size,nVisible = nVisible,nHidden = nHidden,nClass = nClass,\n",
    "                      window = window, stride = stride, window_list = window_list, stride_list = stride_list,\n",
    "                      #mask = mask,name = \"_permuted_neighbours\",\n",
    "                      epochs = EPOCHS,k_gibbs = 1,MAIN = MAIN,metrics = metrics,train_size = size,\n",
    "                      train_data=train_data,val_data=val_data, name = \"_FashionMNIST\",\n",
    "                      train_data_y=train_data_y,val_data_y=val_data_y,\n",
    "                      seed = SEED,lr = lr,momentum = momentum, dtype = dtype)\n",
    "\n",
    "#Initialize and train the model\n",
    "\n",
    "classrbm = classRBM(**kwargs)\n",
    "classrbm.batch_size = batch_size\n",
    "classrbm.epochs = EPOCHS\n",
    "print(\"Name of the RBM if saved: %s\"%classrbm.get_name())\n",
    "classrbm.fit(**kwargs)\n",
    "\n",
    "#Save/Load the model for future evaluations\n",
    "\n",
    "from Save_Load import save_rbm,load_rbm\n",
    "\n",
    "save_rbm(classrbm,**kwargs)\n",
    "\n",
    "list_of_models = [\"classRBM_nHidden_2_nClass_10_method_LL_seed_42_epochs_30_lr_001_momentum_04_batch_size_16\",\n",
    "                  \"classRBM_nHidden_5_nClass_10_method_LL_seed_42_epochs_30_lr_001_momentum_04_batch_size_16\",\n",
    "                  \"classRBM_nHidden_10_nClass_10_method_LL_seed_42_epochs_30_lr_001_momentum_04_batch_size_16\",\n",
    "                  \"classRBM_nHidden_196_nClass_10_permuted_neighbours_method_LL_mask_seed_42_epochs_30_lr_001_momentum_04_batch_size_16\",\n",
    "                  \"classRBM_nHidden_81_nClass_10_permuted_neighbours_method_LL_mask_seed_42_epochs_30_lr_001_momentum_04_batch_size_16\",\n",
    "                  \"classRBM_nHidden_196_nClass_10_method_LL_seed_42_epochs_30_lr_001_momentum_04_batch_size_16\",\n",
    "                  \"classRBM_nHidden_196_nClass_10_method_LL_window_1_stride_2_window_1_stride_2_seed_42_epochs_30_lr_001_momentum_04_batch_size_16\",\n",
    "                  \"classRBM_nHidden_196_nClass_10_method_LL_seed_42_epochs_30_lr_001_momentum_04_train_size_32768_batch_size_16\",\n",
    "                  \"classRBM_nHidden_196_nClass_10_method_LL_window_1_stride_2_seed_42_epochs_30_lr_001_momentum_04_train_size_32768_batch_size_16\"\n",
    "                  \"classRBM_nHidden_196_nClass_10_method_LL_window_1_stride_2_seed_42_epochs_30_lr_001_momentum_04_train_size_8192_batch_size_16\",\n",
    "                  \"classRBM_nHidden_196_nClass_10_method_LL_seed_42_epochs_30_lr_001_momentum_04_train_size_8192_batch_size_16\",\n",
    "                  \"classRBM_nHidden_196_nClass_10_method_LL_seed_42_epochs_30_lr_001_momentum_04_train_size_1024_batch_size_16\",\n",
    "                  \"classRBM_nHidden_196_nClass_10_method_LL_window_1_stride_2_seed_42_epochs_30_lr_001_momentum_04_train_size_1024_batch_size_16\"]\n",
    "\n",
    "classrbm = load_rbm(list_of_models[-1],MAIN=MAIN)\n",
    "\n",
    "#Visualise results\n",
    "#Visualise measured metrics\n",
    "\n",
    "from Plot import plot_errors\n",
    "\n",
    "for metric in metrics:\n",
    "  plot_errors([classrbm.history[s+metric[\"name\"]] for s in [\"train_\",\"val_\"]],\n",
    "              [(\"$\"+s+metric[\"name\"]+\"$\").replace(\"_\",\"\\_\") for s in [\"train_\",\"val_\"]],ylabel = metric[\"name\"],title = \"\" )\n",
    "\n",
    "#Confusion matrix on test\n",
    "\n",
    "TEST,TEST_LABEL = from_dataset_to_array(data_name = \"fashion_mnist\",split = \"test\", size = size)\n",
    " \n",
    "enc = OneHotEncoder(sparse = False,dtype = \"float32\")\n",
    "enc.fit(np.array([i for i in range(10)]).reshape(-1,1))\n",
    "TEST_LABEL = enc.transform(TEST_LABEL.reshape(-1,1))\n",
    "\n",
    "from sklearn.metrics import confusion_matrix as Confusion\n",
    "import matplotlib.pyplot as plt\n",
    "import seaborn as sn\n",
    "\n",
    "y_true = enc.inverse_transform(TEST_LABEL)\n",
    "y_pred = enc.inverse_transform(classrbm.sample_class_from_probs(classrbm.predict(TEST)))\n",
    "\n",
    "conf_mat = Confusion(y_true,y_pred)\n",
    "plt.figure(figsize = (10,7))\n",
    "fig = sn.heatmap(conf_mat, annot=True)\n",
    "\n",
    "from sklearn.metrics import accuracy_score as ACCURACY\n",
    "\n",
    "print(\"Accuracy on Test: %s\"%ACCURACY(y_true,y_pred))\n",
    "\n",
    "print(\"Percentage of number of parameters with respect to the free model: %s\"%round(100*np.sum(classrbm.mask)/np.sum(np.ones(classrbm.mask.shape)))+\"%\")\n",
    "\n",
    "#Conditional digit generation\n",
    "\n",
    "N = 9\n",
    "classes = np.array([i%10 for i in range(N)])\n",
    "vis_state = np.zeros((N,28*28))\n",
    "sampled_vis = classrbm.clamped_gibbs_sampling_from_vis_state(vis_state = vis_state,\n",
    "                                    class_state = enc.transform(classes.reshape(-1,1)),k_gibbs = 100)\n",
    "\n",
    "from Plot import plot_digit_grid\n",
    "fig = plot_digit_grid(sampled_vis.numpy(),n = int(np.sqrt(N)))\n",
    "\n",
    "#Pruned W\n",
    "\n",
    "from Save_Load import save_rbm,load_rbm\n",
    "\n",
    "# \"RBM_nHidden_196_method_LL_seed_42_epochs_30_lr_001_momentum_04_batch_size_16\"\n",
    "# \"RBM_nHidden_196_method_LL_window_1_stride_2_seed_42_epochs_30_lr_001_momentum_095_batch_size_16\"\n",
    "rbm = load_rbm(\"RBM_nHidden_196_method_LL_seed_42_epochs_30_lr_001_momentum_04_batch_size_16\",MAIN=MAIN)\n",
    "\n",
    "t_list = np.linspace(0.0001,0.5,10)\n",
    "for thresh in t_list:\n",
    "  pruned_W = -rbm.W/np.max(np.abs(rbm.W))>thresh\n",
    "  #plt.imshow(pruned_W,cmap = \"gray\",aspect = \"auto\")\n",
    "  print(\"thresh=%s\"%thresh)\n",
    "  plt.imshow(np.sum(pruned_W,axis = 1).reshape((28,28)),cmap = \"gray\")\n",
    "  plt.colorbar()\n",
    "  plt.show()\n",
    "\n"
   ]
  }
 ],
 "metadata": {
  "interpreter": {
   "hash": "aee8b7b246df8f9039afb4144a1f6fd8d2ca17a180786b69acc140d282b71a49"
  },
  "kernelspec": {
   "display_name": "Python 3.9.10 64-bit",
   "language": "python",
   "name": "python3"
  },
  "language_info": {
   "codemirror_mode": {
    "name": "ipython",
    "version": 3
   },
   "file_extension": ".py",
   "mimetype": "text/x-python",
   "name": "python",
   "nbconvert_exporter": "python",
   "pygments_lexer": "ipython3",
   "version": "3.9.10"
  },
  "orig_nbformat": 4
 },
 "nbformat": 4,
 "nbformat_minor": 2
}
